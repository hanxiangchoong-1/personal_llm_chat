{
 "cells": [
  {
   "cell_type": "code",
   "execution_count": null,
   "metadata": {},
   "outputs": [],
   "source": []
  },
  {
   "cell_type": "code",
   "execution_count": 4,
   "metadata": {},
   "outputs": [],
   "source": [
    "import streamlit as st\n",
    "import os\n",
    "from elasticsearch import Elasticsearch\n",
    "from prompts import prompts\n",
    "from AzureOpenAIClient import AzureOpenAIClient\n",
    "from utils import get_current_time, count_words_in_conversation, create_conversational_prompt\n",
    "from streamlit_components.es import save_conversation, load_conversation\n",
    "from dotenv import load_dotenv\n",
    "import json\n",
    "from datetime import datetime\n",
    "load_dotenv()\n",
    "\n",
    "# Elasticsearch setup\n",
    "es_endpoint = \"https://main.es.asia-southeast1.gcp.elastic-cloud.com\"\n",
    "es_client = Elasticsearch(\n",
    "    es_endpoint,\n",
    "    api_key=\"c19FS3A1RUJ2QjYzenFSR0NSYXk6cGhBUUlfNXVSNnVIYTl0a0IxbWV4QQ==\"\n",
    ")"
   ]
  },
  {
   "cell_type": "code",
   "execution_count": 5,
   "metadata": {},
   "outputs": [],
   "source": [
    "es_connected = es_client.ping()\n",
    "es_health = es_client.cluster.health()"
   ]
  },
  {
   "cell_type": "code",
   "execution_count": 6,
   "metadata": {},
   "outputs": [
    {
     "data": {
      "text/plain": [
       "True"
      ]
     },
     "execution_count": 6,
     "metadata": {},
     "output_type": "execute_result"
    }
   ],
   "source": [
    "es_connected"
   ]
  },
  {
   "cell_type": "code",
   "execution_count": 7,
   "metadata": {},
   "outputs": [
    {
     "data": {
      "text/plain": [
       "ObjectApiResponse({'cluster_name': '4dbffd44dd5e4be3bd55a058f063a83b', 'status': 'green', 'timed_out': False, 'number_of_nodes': 3, 'number_of_data_nodes': 2, 'active_primary_shards': 112, 'active_shards': 224, 'relocating_shards': 0, 'initializing_shards': 0, 'unassigned_shards': 0, 'delayed_unassigned_shards': 0, 'number_of_pending_tasks': 0, 'number_of_in_flight_fetch': 0, 'task_max_waiting_in_queue_millis': 0, 'active_shards_percent_as_number': 100.0})"
      ]
     },
     "execution_count": 7,
     "metadata": {},
     "output_type": "execute_result"
    }
   ],
   "source": [
    "es_health"
   ]
  },
  {
   "cell_type": "code",
   "execution_count": null,
   "metadata": {},
   "outputs": [],
   "source": []
  }
 ],
 "metadata": {
  "kernelspec": {
   "display_name": "Python 3",
   "language": "python",
   "name": "python3"
  },
  "language_info": {
   "codemirror_mode": {
    "name": "ipython",
    "version": 3
   },
   "file_extension": ".py",
   "mimetype": "text/x-python",
   "name": "python",
   "nbconvert_exporter": "python",
   "pygments_lexer": "ipython3",
   "version": "3.12.4"
  }
 },
 "nbformat": 4,
 "nbformat_minor": 2
}
